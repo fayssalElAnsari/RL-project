{
 "cells": [
  {
   "cell_type": "code",
   "execution_count": 1,
   "metadata": {},
   "outputs": [
    {
     "name": "stdout",
     "output_type": "stream",
     "text": [
      "0.29.1\n"
     ]
    }
   ],
   "source": [
    "import os\n",
    "import gymnasium as gym\n",
    "import numpy as np\n",
    "import pandas as pd\n",
    "import os\n",
    "from ale_py import ALEInterface\n",
    "# from ale_py.roms import Pong\n",
    "from gymnasium.utils.play import play\n",
    "import imageio.v3 as iio\n",
    "import matplotlib.pyplot as plt\n",
    "from keras.models import Sequential, clone_model\n",
    "from keras.layers import Dense, Input\n",
    "import tensorflow as tf\n",
    "from sklearn.model_selection import train_test_split\n",
    "from sklearn.metrics import classification_report\n",
    "\n",
    "print(gym.__version__)"
   ]
  },
  {
   "cell_type": "code",
   "execution_count": 10,
   "metadata": {},
   "outputs": [],
   "source": [
    "# define constants\n",
    "FRAMESKIP = 4\n",
    "\n",
    "num_episodes = 50\n",
    "lr = 0.8"
   ]
  },
  {
   "cell_type": "code",
   "execution_count": 6,
   "metadata": {},
   "outputs": [],
   "source": [
    "env = gym.make(\"FrozenLake-v1\")\n",
    "observation, info = env.reset()"
   ]
  },
  {
   "cell_type": "code",
   "execution_count": 7,
   "metadata": {},
   "outputs": [],
   "source": [
    "# Initialize the Q-table\n",
    "Q = np.zeros([env.observation_space.n, env.action_space.n])"
   ]
  },
  {
   "cell_type": "code",
   "execution_count": 11,
   "metadata": {},
   "outputs": [
    {
     "ename": "IndexError",
     "evalue": "only integers, slices (`:`), ellipsis (`...`), numpy.newaxis (`None`) and integer or boolean arrays are valid indices",
     "output_type": "error",
     "traceback": [
      "\u001b[1;31m---------------------------------------------------------------------------\u001b[0m",
      "\u001b[1;31mIndexError\u001b[0m                                Traceback (most recent call last)",
      "\u001b[1;32mc:\\Users\\fayss\\Desktop\\IA-ID\\reinforcement_learning\\RL-project\\frozen_lake.ipynb Cell 5\u001b[0m line \u001b[0;36m1\n\u001b[0;32m      <a href='vscode-notebook-cell:/c%3A/Users/fayss/Desktop/IA-ID/reinforcement_learning/RL-project/frozen_lake.ipynb#W4sZmlsZQ%3D%3D?line=7'>8</a>\u001b[0m \u001b[39m# The Q-Table learning algorithm\u001b[39;00m\n\u001b[0;32m      <a href='vscode-notebook-cell:/c%3A/Users/fayss/Desktop/IA-ID/reinforcement_learning/RL-project/frozen_lake.ipynb#W4sZmlsZQ%3D%3D?line=8'>9</a>\u001b[0m \u001b[39mwhile\u001b[39;00m \u001b[39mnot\u001b[39;00m done:\n\u001b[1;32m---> <a href='vscode-notebook-cell:/c%3A/Users/fayss/Desktop/IA-ID/reinforcement_learning/RL-project/frozen_lake.ipynb#W4sZmlsZQ%3D%3D?line=9'>10</a>\u001b[0m     a \u001b[39m=\u001b[39m np\u001b[39m.\u001b[39margmax(Q[s,:] \u001b[39m+\u001b[39m np\u001b[39m.\u001b[39mrandom\u001b[39m.\u001b[39mrandn(\u001b[39m1\u001b[39m,env\u001b[39m.\u001b[39maction_space\u001b[39m.\u001b[39mn)\u001b[39m*\u001b[39m(\u001b[39m1.\u001b[39m\u001b[39m/\u001b[39m(i\u001b[39m+\u001b[39m\u001b[39m1\u001b[39m)))\n\u001b[0;32m     <a href='vscode-notebook-cell:/c%3A/Users/fayss/Desktop/IA-ID/reinforcement_learning/RL-project/frozen_lake.ipynb#W4sZmlsZQ%3D%3D?line=10'>11</a>\u001b[0m     s_, r, done, _ \u001b[39m=\u001b[39m env\u001b[39m.\u001b[39mstep(a)\n\u001b[0;32m     <a href='vscode-notebook-cell:/c%3A/Users/fayss/Desktop/IA-ID/reinforcement_learning/RL-project/frozen_lake.ipynb#W4sZmlsZQ%3D%3D?line=12'>13</a>\u001b[0m     \u001b[39m# update Q values\u001b[39;00m\n",
      "\u001b[1;31mIndexError\u001b[0m: only integers, slices (`:`), ellipsis (`...`), numpy.newaxis (`None`) and integer or boolean arrays are valid indices"
     ]
    }
   ],
   "source": [
    "# Run the Q-learning algorithm\n",
    "for i in range(num_episodes):\n",
    "    s = env.reset()\n",
    "    done = False\n",
    "    episode_reward = 0\n",
    "    num_steps = 0\n",
    "    \n",
    "    # The Q-Table learning algorithm\n",
    "    while not done:\n",
    "        a = np.argmax(Q[s,:] + np.random.randn(1,env.action_space.n)*(1./(i+1)))\n",
    "        s_, r, done, _ = env.step(a)\n",
    "        \n",
    "        # update Q values\n",
    "        Q[s,a] = Q[s,a] + lr*(r + num_episodes*np.max(Q[s_,:]) - Q[s,a])\n",
    "        s = s_\n",
    "        episode_reward += r\n",
    "        num_steps += 1\n",
    "    \n",
    "    # append performance metrics to lists\n",
    "    # total_rewards.append(episode_reward/num_steps)\n",
    "    # total_steps.append(num_steps)\n",
    "    # success_rate.append(int(episode_reward > 0))\n",
    "\n",
    "    # Print episode metrics\n",
    "    print(\"Episode:\", i+1, \"Reward:\", episode_reward, \"Steps:\", num_steps)"
   ]
  }
 ],
 "metadata": {
  "kernelspec": {
   "display_name": "Python 3",
   "language": "python",
   "name": "python3"
  },
  "language_info": {
   "codemirror_mode": {
    "name": "ipython",
    "version": 3
   },
   "file_extension": ".py",
   "mimetype": "text/x-python",
   "name": "python",
   "nbconvert_exporter": "python",
   "pygments_lexer": "ipython3",
   "version": "3.10.10"
  },
  "orig_nbformat": 4
 },
 "nbformat": 4,
 "nbformat_minor": 2
}
